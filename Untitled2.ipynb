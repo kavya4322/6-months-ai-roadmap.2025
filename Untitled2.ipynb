{
 "cells": [
  {
   "cell_type": "markdown",
   "id": "aa7471c6-2f23-49ff-b318-d13f53c5445f",
   "metadata": {},
   "source": [
    "Data Structures"
   ]
  },
  {
   "cell_type": "code",
   "execution_count": 1,
   "id": "8e81532d-5728-43a4-989d-4a5f256c4c9f",
   "metadata": {},
   "outputs": [
    {
     "data": {
      "text/plain": [
       "[]"
      ]
     },
     "execution_count": 1,
     "metadata": {},
     "output_type": "execute_result"
    }
   ],
   "source": [
    "l=[]\n",
    "l"
   ]
  },
  {
   "cell_type": "code",
   "execution_count": 2,
   "id": "2950cf1a-f7a4-45cc-ad40-ccc776f18459",
   "metadata": {},
   "outputs": [
    {
     "data": {
      "text/plain": [
       "[]"
      ]
     },
     "execution_count": 2,
     "metadata": {},
     "output_type": "execute_result"
    }
   ],
   "source": [
    "l"
   ]
  },
  {
   "cell_type": "code",
   "execution_count": 3,
   "id": "7292760a-5d18-4ea6-ab86-c665c4ca00dc",
   "metadata": {},
   "outputs": [
    {
     "data": {
      "text/plain": [
       "[10]"
      ]
     },
     "execution_count": 3,
     "metadata": {},
     "output_type": "execute_result"
    }
   ],
   "source": [
    "l.append(10)\n",
    "l"
   ]
  },
  {
   "cell_type": "code",
   "execution_count": 4,
   "id": "80d5c2d4-3b97-4d41-abb1-c2e8e158c4cf",
   "metadata": {},
   "outputs": [
    {
     "ename": "TypeError",
     "evalue": "list.append() takes exactly one argument (5 given)",
     "output_type": "error",
     "traceback": [
      "\u001b[1;31m---------------------------------------------------------------------------\u001b[0m",
      "\u001b[1;31mTypeError\u001b[0m                                 Traceback (most recent call last)",
      "Cell \u001b[1;32mIn[4], line 1\u001b[0m\n\u001b[1;32m----> 1\u001b[0m l\u001b[38;5;241m.\u001b[39mappend(\u001b[38;5;241m20\u001b[39m,\u001b[38;5;241m30\u001b[39m,\u001b[38;5;241m40\u001b[39m,\u001b[38;5;241m50\u001b[39m,\u001b[38;5;241m50\u001b[39m)\n",
      "\u001b[1;31mTypeError\u001b[0m: list.append() takes exactly one argument (5 given)"
     ]
    }
   ],
   "source": [
    "l.append(20,30,40,50,50)"
   ]
  },
  {
   "cell_type": "code",
   "execution_count": 6,
   "id": "e1151964-beb8-42a2-82c3-f92b6dc27661",
   "metadata": {},
   "outputs": [],
   "source": [
    "l.append(20)\n",
    "l.append(30)\n",
    "l.append(40)\n",
    "l.append(50)\n",
    "l.append(50)"
   ]
  },
  {
   "cell_type": "code",
   "execution_count": 7,
   "id": "3e45c0a8-37a3-4661-aa46-dce0467ce2ce",
   "metadata": {},
   "outputs": [
    {
     "data": {
      "text/plain": [
       "[10, 20, 30, 40, 50, 50, 20, 30, 40, 50, 50]"
      ]
     },
     "execution_count": 7,
     "metadata": {},
     "output_type": "execute_result"
    }
   ],
   "source": [
    "l"
   ]
  },
  {
   "cell_type": "code",
   "execution_count": 8,
   "id": "1d2027fe-d3a0-46e9-b071-a60c6ffebfbd",
   "metadata": {},
   "outputs": [
    {
     "ename": "NameError",
     "evalue": "name 'l1' is not defined",
     "output_type": "error",
     "traceback": [
      "\u001b[1;31m---------------------------------------------------------------------------\u001b[0m",
      "\u001b[1;31mNameError\u001b[0m                                 Traceback (most recent call last)",
      "Cell \u001b[1;32mIn[8], line 1\u001b[0m\n\u001b[1;32m----> 1\u001b[0m l1\u001b[38;5;241m.\u001b[39mappend(\u001b[38;5;241m60\u001b[39m)\n\u001b[0;32m      2\u001b[0m l1\u001b[38;5;241m.\u001b[39mappend(\u001b[38;5;241m70\u001b[39m)\n\u001b[0;32m      3\u001b[0m l1\u001b[38;5;241m.\u001b[39mappend(\u001b[38;5;241m80\u001b[39m)\n",
      "\u001b[1;31mNameError\u001b[0m: name 'l1' is not defined"
     ]
    }
   ],
   "source": [
    "l1.append(60)\n",
    "l1.append(70)\n",
    "l1.append(80)\n",
    "l1.append(90)\n",
    "l1.append(100)"
   ]
  },
  {
   "cell_type": "code",
   "execution_count": null,
   "id": "c0b73b09-2b7b-42d7-b5ff-527519e2836a",
   "metadata": {},
   "outputs": [],
   "source": [
    "l1.append(60)\n",
    "l1.append(70)\n",
    "l1.append(80)\n",
    "l1.append(90)\n",
    "l1.append(100)"
   ]
  },
  {
   "cell_type": "code",
   "execution_count": 9,
   "id": "1d008d9c-652e-4470-9d0b-e28e63ab4b11",
   "metadata": {},
   "outputs": [
    {
     "ename": "NameError",
     "evalue": "name 'l1' is not defined",
     "output_type": "error",
     "traceback": [
      "\u001b[1;31m---------------------------------------------------------------------------\u001b[0m",
      "\u001b[1;31mNameError\u001b[0m                                 Traceback (most recent call last)",
      "Cell \u001b[1;32mIn[9], line 1\u001b[0m\n\u001b[1;32m----> 1\u001b[0m l1\n",
      "\u001b[1;31mNameError\u001b[0m: name 'l1' is not defined"
     ]
    }
   ],
   "source": [
    "l1"
   ]
  },
  {
   "cell_type": "code",
   "execution_count": 10,
   "id": "0ff666b6-12ce-4bb5-979c-06e28d62ef7e",
   "metadata": {},
   "outputs": [
    {
     "ename": "SyntaxError",
     "evalue": "invalid syntax (2406392001.py, line 1)",
     "output_type": "error",
     "traceback": [
      "\u001b[1;36m  Cell \u001b[1;32mIn[10], line 1\u001b[1;36m\u001b[0m\n\u001b[1;33m    l1[]\u001b[0m\n\u001b[1;37m       ^\u001b[0m\n\u001b[1;31mSyntaxError\u001b[0m\u001b[1;31m:\u001b[0m invalid syntax\n"
     ]
    }
   ],
   "source": [
    "l1[]"
   ]
  },
  {
   "cell_type": "code",
   "execution_count": 11,
   "id": "c556216c-e351-4aca-8a22-79c67d22aa4b",
   "metadata": {},
   "outputs": [
    {
     "ename": "SyntaxError",
     "evalue": "invalid syntax (320682632.py, line 1)",
     "output_type": "error",
     "traceback": [
      "\u001b[1;36m  Cell \u001b[1;32mIn[11], line 1\u001b[1;36m\u001b[0m\n\u001b[1;33m    l1[]\u001b[0m\n\u001b[1;37m       ^\u001b[0m\n\u001b[1;31mSyntaxError\u001b[0m\u001b[1;31m:\u001b[0m invalid syntax\n"
     ]
    }
   ],
   "source": [
    "l1[]\n",
    "l1"
   ]
  },
  {
   "cell_type": "code",
   "execution_count": null,
   "id": "2a9e63f4-2b17-4774-9aa9-e023dd07786c",
   "metadata": {},
   "outputs": [],
   "source": [
    "l1[]"
   ]
  },
  {
   "cell_type": "code",
   "execution_count": 12,
   "id": "5855d34e-8f42-448e-8df6-af9e3191daa4",
   "metadata": {},
   "outputs": [
    {
     "ename": "NameError",
     "evalue": "name 'l1' is not defined",
     "output_type": "error",
     "traceback": [
      "\u001b[1;31m---------------------------------------------------------------------------\u001b[0m",
      "\u001b[1;31mNameError\u001b[0m                                 Traceback (most recent call last)",
      "Cell \u001b[1;32mIn[12], line 1\u001b[0m\n\u001b[1;32m----> 1\u001b[0m l1\n",
      "\u001b[1;31mNameError\u001b[0m: name 'l1' is not defined"
     ]
    }
   ],
   "source": [
    "l1"
   ]
  },
  {
   "cell_type": "code",
   "execution_count": 13,
   "id": "63cb94a3-9734-4fae-b2d1-fac04db16e1c",
   "metadata": {},
   "outputs": [
    {
     "ename": "TypeError",
     "evalue": "list.append() takes exactly one argument (5 given)",
     "output_type": "error",
     "traceback": [
      "\u001b[1;31m---------------------------------------------------------------------------\u001b[0m",
      "\u001b[1;31mTypeError\u001b[0m                                 Traceback (most recent call last)",
      "Cell \u001b[1;32mIn[13], line 1\u001b[0m\n\u001b[1;32m----> 1\u001b[0m l\u001b[38;5;241m.\u001b[39mappend(\u001b[38;5;241m60\u001b[39m,\u001b[38;5;241m70\u001b[39m,\u001b[38;5;241m80\u001b[39m,\u001b[38;5;241m90\u001b[39m,\u001b[38;5;241m100\u001b[39m)\n",
      "\u001b[1;31mTypeError\u001b[0m: list.append() takes exactly one argument (5 given)"
     ]
    }
   ],
   "source": [
    "l.append(60,70,80,90,100)"
   ]
  },
  {
   "cell_type": "code",
   "execution_count": null,
   "id": "b3d905b9-43a4-4016-85af-8aa555d8e0dd",
   "metadata": {},
   "outputs": [],
   "source": [
    "l.append(60)\n",
    "l.append(70)\n",
    "l.append(80)\n",
    "l.append(90)\n",
    "l.append(100)\n"
   ]
  },
  {
   "cell_type": "code",
   "execution_count": 14,
   "id": "4d452160-d602-46ea-8a81-c878023514cb",
   "metadata": {},
   "outputs": [
    {
     "ename": "TypeError",
     "evalue": "list.append() takes exactly one argument (0 given)",
     "output_type": "error",
     "traceback": [
      "\u001b[1;31m---------------------------------------------------------------------------\u001b[0m",
      "\u001b[1;31mTypeError\u001b[0m                                 Traceback (most recent call last)",
      "Cell \u001b[1;32mIn[14], line 1\u001b[0m\n\u001b[1;32m----> 1\u001b[0m l\u001b[38;5;241m.\u001b[39mappend()\n",
      "\u001b[1;31mTypeError\u001b[0m: list.append() takes exactly one argument (0 given)"
     ]
    }
   ],
   "source": [
    "l.append()"
   ]
  },
  {
   "cell_type": "code",
   "execution_count": 16,
   "id": "ad6d85cc-9d0f-49fa-a567-b1e3b952087f",
   "metadata": {},
   "outputs": [],
   "source": [
    "l.append(60)\n",
    "l.append(70)\n",
    "l.append(80)\n",
    "l.append(90)\n",
    "l.append(100)\n"
   ]
  },
  {
   "cell_type": "code",
   "execution_count": 17,
   "id": "ae9a6fc4-baa7-41bf-83e1-dabc8dce7a12",
   "metadata": {},
   "outputs": [
    {
     "ename": "SyntaxError",
     "evalue": "invalid syntax (504353372.py, line 1)",
     "output_type": "error",
     "traceback": [
      "\u001b[1;36m  Cell \u001b[1;32mIn[17], line 1\u001b[1;36m\u001b[0m\n\u001b[1;33m    l[]\u001b[0m\n\u001b[1;37m      ^\u001b[0m\n\u001b[1;31mSyntaxError\u001b[0m\u001b[1;31m:\u001b[0m invalid syntax\n"
     ]
    }
   ],
   "source": [
    "l[]"
   ]
  },
  {
   "cell_type": "code",
   "execution_count": 18,
   "id": "aa2da4d8-0299-45f3-ae01-02e96ad82673",
   "metadata": {},
   "outputs": [
    {
     "ename": "SyntaxError",
     "evalue": "invalid syntax (2406392001.py, line 1)",
     "output_type": "error",
     "traceback": [
      "\u001b[1;36m  Cell \u001b[1;32mIn[18], line 1\u001b[1;36m\u001b[0m\n\u001b[1;33m    l1[]\u001b[0m\n\u001b[1;37m       ^\u001b[0m\n\u001b[1;31mSyntaxError\u001b[0m\u001b[1;31m:\u001b[0m invalid syntax\n"
     ]
    }
   ],
   "source": [
    "l1[]"
   ]
  },
  {
   "cell_type": "code",
   "execution_count": 19,
   "id": "c8197d8f-ce0a-48ae-9ddf-14be84642857",
   "metadata": {},
   "outputs": [
    {
     "ename": "SyntaxError",
     "evalue": "invalid syntax (4098778551.py, line 1)",
     "output_type": "error",
     "traceback": [
      "\u001b[1;36m  Cell \u001b[1;32mIn[19], line 1\u001b[1;36m\u001b[0m\n\u001b[1;33m    l1[]\u001b[0m\n\u001b[1;37m       ^\u001b[0m\n\u001b[1;31mSyntaxError\u001b[0m\u001b[1;31m:\u001b[0m invalid syntax\n"
     ]
    }
   ],
   "source": [
    "l1[]\n",
    "l1.append('nit',True,2.3,1+2j,[1,2,3])"
   ]
  },
  {
   "cell_type": "code",
   "execution_count": 20,
   "id": "107e7a7e-edf5-42d8-b733-8c07494a6e28",
   "metadata": {
    "scrolled": true
   },
   "outputs": [
    {
     "ename": "NameError",
     "evalue": "name 'l1' is not defined",
     "output_type": "error",
     "traceback": [
      "\u001b[1;31m---------------------------------------------------------------------------\u001b[0m",
      "\u001b[1;31mNameError\u001b[0m                                 Traceback (most recent call last)",
      "Cell \u001b[1;32mIn[20], line 1\u001b[0m\n\u001b[1;32m----> 1\u001b[0m l1\u001b[38;5;241m.\u001b[39mappend(\u001b[38;5;124m'\u001b[39m\u001b[38;5;124mnit\u001b[39m\u001b[38;5;124m'\u001b[39m,\u001b[38;5;28;01mTrue\u001b[39;00m,\u001b[38;5;241m2.3\u001b[39m,\u001b[38;5;241m1\u001b[39m\u001b[38;5;241m+\u001b[39m\u001b[38;5;241m2\u001b[39mj,[\u001b[38;5;241m1\u001b[39m,\u001b[38;5;241m2\u001b[39m,\u001b[38;5;241m3\u001b[39m])\n",
      "\u001b[1;31mNameError\u001b[0m: name 'l1' is not defined"
     ]
    }
   ],
   "source": [
    "l1.append('nit',True,2.3,1+2j,[1,2,3])"
   ]
  },
  {
   "cell_type": "code",
   "execution_count": 21,
   "id": "0a68bb9d-9fa8-440c-85a3-f0ccfa6ea232",
   "metadata": {},
   "outputs": [
    {
     "ename": "SyntaxError",
     "evalue": "unterminated string literal (detected at line 1) (4117962874.py, line 1)",
     "output_type": "error",
     "traceback": [
      "\u001b[1;36m  Cell \u001b[1;32mIn[21], line 1\u001b[1;36m\u001b[0m\n\u001b[1;33m    l1.append('nit)\u001b[0m\n\u001b[1;37m              ^\u001b[0m\n\u001b[1;31mSyntaxError\u001b[0m\u001b[1;31m:\u001b[0m unterminated string literal (detected at line 1)\n"
     ]
    }
   ],
   "source": [
    "l1.append9'nit)\n",
    "l1.append(True)\n",
    "l1.append(2.3)\n",
    "l1.append(1+2j)\n",
    "l1.append([1,2,3])          \n",
    "          \n"
   ]
  },
  {
   "cell_type": "markdown",
   "id": "3e8c4061-1ef9-467d-aa09-11c9c105d7d3",
   "metadata": {},
   "source": [
    "l1"
   ]
  },
  {
   "cell_type": "code",
   "execution_count": 22,
   "id": "1baace4f-0791-44c7-aa7e-05fec4df57ba",
   "metadata": {},
   "outputs": [
    {
     "ename": "NameError",
     "evalue": "name 'l1' is not defined",
     "output_type": "error",
     "traceback": [
      "\u001b[1;31m---------------------------------------------------------------------------\u001b[0m",
      "\u001b[1;31mNameError\u001b[0m                                 Traceback (most recent call last)",
      "Cell \u001b[1;32mIn[22], line 1\u001b[0m\n\u001b[1;32m----> 1\u001b[0m l1\n",
      "\u001b[1;31mNameError\u001b[0m: name 'l1' is not defined"
     ]
    }
   ],
   "source": [
    "l1"
   ]
  },
  {
   "cell_type": "code",
   "execution_count": 23,
   "id": "f7b28fba-f2f2-4ab2-ab31-6f005650d804",
   "metadata": {},
   "outputs": [],
   "source": [
    "l1=[]"
   ]
  },
  {
   "cell_type": "code",
   "execution_count": 24,
   "id": "6611812f-0ffd-472e-beac-48b36b2dfc89",
   "metadata": {},
   "outputs": [
    {
     "data": {
      "text/plain": [
       "[]"
      ]
     },
     "execution_count": 24,
     "metadata": {},
     "output_type": "execute_result"
    }
   ],
   "source": [
    "l1"
   ]
  },
  {
   "cell_type": "code",
   "execution_count": 25,
   "id": "aa14f129-b035-4cdf-8d31-9662acbe980a",
   "metadata": {},
   "outputs": [],
   "source": [
    "l1.append('nit')\n",
    "l1.append(True)\n",
    "l1.append(2.3)\n",
    "l1.append(1+2j)\n",
    "l1.append([1,2,3])"
   ]
  },
  {
   "cell_type": "code",
   "execution_count": 26,
   "id": "f70723b4-3609-4e25-aff7-c00d6921fc53",
   "metadata": {},
   "outputs": [
    {
     "data": {
      "text/plain": [
       "['nit', True, 2.3, (1+2j), [1, 2, 3]]"
      ]
     },
     "execution_count": 26,
     "metadata": {},
     "output_type": "execute_result"
    }
   ],
   "source": [
    "l1"
   ]
  },
  {
   "cell_type": "code",
   "execution_count": 27,
   "id": "6757990f-5b58-4a56-a1b1-78b82c80c7ca",
   "metadata": {},
   "outputs": [],
   "source": [
    "l.append(10)"
   ]
  },
  {
   "cell_type": "code",
   "execution_count": 28,
   "id": "c457cbb2-5d2a-4ada-a0e6-8baf235ce244",
   "metadata": {},
   "outputs": [
    {
     "data": {
      "text/plain": [
       "[10,\n",
       " 20,\n",
       " 30,\n",
       " 40,\n",
       " 50,\n",
       " 50,\n",
       " 20,\n",
       " 30,\n",
       " 40,\n",
       " 50,\n",
       " 50,\n",
       " 60,\n",
       " 70,\n",
       " 80,\n",
       " 90,\n",
       " 100,\n",
       " 60,\n",
       " 70,\n",
       " 80,\n",
       " 90,\n",
       " 100,\n",
       " 10]"
      ]
     },
     "execution_count": 28,
     "metadata": {},
     "output_type": "execute_result"
    }
   ],
   "source": [
    "l"
   ]
  },
  {
   "cell_type": "code",
   "execution_count": 29,
   "id": "bd29db8d-2c49-4e3e-83ff-139a8b6de315",
   "metadata": {},
   "outputs": [],
   "source": [
    "l.append(60)\n",
    "l.append(70)\n",
    "l.append(80)\n",
    "l.append(90)\n",
    "l.append(100)\n"
   ]
  },
  {
   "cell_type": "code",
   "execution_count": 32,
   "id": "8da02d0d-a8d8-4ec7-b828-04216c655cf3",
   "metadata": {},
   "outputs": [
    {
     "data": {
      "text/plain": [
       "[10,\n",
       " 20,\n",
       " 30,\n",
       " 40,\n",
       " 50,\n",
       " 50,\n",
       " 20,\n",
       " 30,\n",
       " 40,\n",
       " 50,\n",
       " 50,\n",
       " 60,\n",
       " 70,\n",
       " 80,\n",
       " 90,\n",
       " 100,\n",
       " 60,\n",
       " 70,\n",
       " 80,\n",
       " 90,\n",
       " 100,\n",
       " 10,\n",
       " 60,\n",
       " 70,\n",
       " 80,\n",
       " 90,\n",
       " 100]"
      ]
     },
     "execution_count": 32,
     "metadata": {},
     "output_type": "execute_result"
    }
   ],
   "source": [
    "l"
   ]
  },
  {
   "cell_type": "code",
   "execution_count": 33,
   "id": "fbdfc977-e84a-4139-a991-0081c923f6dd",
   "metadata": {},
   "outputs": [],
   "source": [
    "l1.append('nit')\n",
    "l1.append(True)\n",
    "l1.append(2.3)\n",
    "l1.append(1+2j)\n",
    "l1.append([1,2,3])\n"
   ]
  },
  {
   "cell_type": "code",
   "execution_count": 34,
   "id": "e4a031ca-a004-4201-86a7-f22fc4ae78aa",
   "metadata": {},
   "outputs": [
    {
     "name": "stdout",
     "output_type": "stream",
     "text": [
      "[10, 20, 30, 40, 50, 50, 20, 30, 40, 50, 50, 60, 70, 80, 90, 100, 60, 70, 80, 90, 100, 10, 60, 70, 80, 90, 100]\n",
      "['nit', True, 2.3, (1+2j), [1, 2, 3], 'nit', True, 2.3, (1+2j), [1, 2, 3]]\n"
     ]
    }
   ],
   "source": [
    "print(l)\n",
    "print(l1)"
   ]
  },
  {
   "cell_type": "code",
   "execution_count": 35,
   "id": "68b322c7-2bf3-45c3-8abe-871015943991",
   "metadata": {},
   "outputs": [],
   "source": [
    "l[0]=100"
   ]
  },
  {
   "cell_type": "code",
   "execution_count": 36,
   "id": "956ed10d-5614-427b-b6a8-d5e78eb79c64",
   "metadata": {},
   "outputs": [
    {
     "data": {
      "text/plain": [
       "[100,\n",
       " 20,\n",
       " 30,\n",
       " 40,\n",
       " 50,\n",
       " 50,\n",
       " 20,\n",
       " 30,\n",
       " 40,\n",
       " 50,\n",
       " 50,\n",
       " 60,\n",
       " 70,\n",
       " 80,\n",
       " 90,\n",
       " 100,\n",
       " 60,\n",
       " 70,\n",
       " 80,\n",
       " 90,\n",
       " 100,\n",
       " 10,\n",
       " 60,\n",
       " 70,\n",
       " 80,\n",
       " 90,\n",
       " 100]"
      ]
     },
     "execution_count": 36,
     "metadata": {},
     "output_type": "execute_result"
    }
   ],
   "source": [
    "l"
   ]
  },
  {
   "cell_type": "code",
   "execution_count": 37,
   "id": "c34ef26d-cdf3-4c48-a6bc-1a6789e2d436",
   "metadata": {},
   "outputs": [
    {
     "name": "stdout",
     "output_type": "stream",
     "text": [
      "nit\n",
      "True\n",
      "2.3\n",
      "(1+2j)\n",
      "[1, 2, 3]\n",
      "nit\n",
      "True\n",
      "2.3\n",
      "(1+2j)\n",
      "[1, 2, 3]\n"
     ]
    }
   ],
   "source": [
    "for i in l1:\n",
    "    print(i)"
   ]
  },
  {
   "cell_type": "code",
   "execution_count": 38,
   "id": "ebaa4c0b-15e2-4046-9dfb-8da611a93eee",
   "metadata": {},
   "outputs": [
    {
     "ename": "SyntaxError",
     "evalue": "invalid syntax (1667856837.py, line 1)",
     "output_type": "error",
     "traceback": [
      "\u001b[1;36m  Cell \u001b[1;32mIn[38], line 1\u001b[1;36m\u001b[0m\n\u001b[1;33m    for in enumerate(l1):\u001b[0m\n\u001b[1;37m        ^\u001b[0m\n\u001b[1;31mSyntaxError\u001b[0m\u001b[1;31m:\u001b[0m invalid syntax\n"
     ]
    }
   ],
   "source": [
    "for in enumerate(l1):\n",
    "print(i)"
   ]
  },
  {
   "cell_type": "code",
   "execution_count": 39,
   "id": "b4a8bc14-be78-4380-abc5-ac8569fddab5",
   "metadata": {},
   "outputs": [
    {
     "ename": "SyntaxError",
     "evalue": "invalid syntax (1859977177.py, line 1)",
     "output_type": "error",
     "traceback": [
      "\u001b[1;36m  Cell \u001b[1;32mIn[39], line 1\u001b[1;36m\u001b[0m\n\u001b[1;33m    for in enumerate(l1):\u001b[0m\n\u001b[1;37m        ^\u001b[0m\n\u001b[1;31mSyntaxError\u001b[0m\u001b[1;31m:\u001b[0m invalid syntax\n"
     ]
    }
   ],
   "source": [
    "for in enumerate(l1):\n",
    "     print(i)"
   ]
  },
  {
   "cell_type": "code",
   "execution_count": 40,
   "id": "5988fce6-b77b-46d2-a868-ed670d804480",
   "metadata": {},
   "outputs": [
    {
     "ename": "IndentationError",
     "evalue": "expected an indented block after 'for' statement on line 1 (1005204858.py, line 2)",
     "output_type": "error",
     "traceback": [
      "\u001b[1;36m  Cell \u001b[1;32mIn[40], line 2\u001b[1;36m\u001b[0m\n\u001b[1;33m    print(i)\u001b[0m\n\u001b[1;37m    ^\u001b[0m\n\u001b[1;31mIndentationError\u001b[0m\u001b[1;31m:\u001b[0m expected an indented block after 'for' statement on line 1\n"
     ]
    }
   ],
   "source": [
    "for i in enumerate(l1):\n",
    "print(i)"
   ]
  },
  {
   "cell_type": "code",
   "execution_count": 41,
   "id": "a5f587e3-1218-465d-a2c5-1dafe4e6b4b1",
   "metadata": {},
   "outputs": [
    {
     "ename": "SyntaxError",
     "evalue": "invalid syntax (2747399604.py, line 1)",
     "output_type": "error",
     "traceback": [
      "\u001b[1;36m  Cell \u001b[1;32mIn[41], line 1\u001b[1;36m\u001b[0m\n\u001b[1;33m    for in enumerate(l1):\u001b[0m\n\u001b[1;37m        ^\u001b[0m\n\u001b[1;31mSyntaxError\u001b[0m\u001b[1;31m:\u001b[0m invalid syntax\n"
     ]
    }
   ],
   "source": [
    "for in enumerate(l1):\n",
    "    print(i)"
   ]
  },
  {
   "cell_type": "code",
   "execution_count": 42,
   "id": "f68b2830-57c5-4cec-8c1c-c28c1bb4563f",
   "metadata": {},
   "outputs": [
    {
     "data": {
      "text/plain": [
       "[100,\n",
       " 20,\n",
       " 30,\n",
       " 40,\n",
       " 50,\n",
       " 50,\n",
       " 20,\n",
       " 30,\n",
       " 40,\n",
       " 50,\n",
       " 50,\n",
       " 60,\n",
       " 70,\n",
       " 80,\n",
       " 90,\n",
       " 100,\n",
       " 60,\n",
       " 70,\n",
       " 80,\n",
       " 90,\n",
       " 100,\n",
       " 10,\n",
       " 60,\n",
       " 70,\n",
       " 80,\n",
       " 90,\n",
       " 100]"
      ]
     },
     "execution_count": 42,
     "metadata": {},
     "output_type": "execute_result"
    }
   ],
   "source": [
    "l[:]"
   ]
  },
  {
   "cell_type": "code",
   "execution_count": 43,
   "id": "64593b39-c0ba-40f9-9f25-fdf1ea51c009",
   "metadata": {},
   "outputs": [
    {
     "data": {
      "text/plain": [
       "100"
      ]
     },
     "execution_count": 43,
     "metadata": {},
     "output_type": "execute_result"
    }
   ],
   "source": [
    "l[0]"
   ]
  },
  {
   "cell_type": "code",
   "execution_count": 44,
   "id": "243719c9-b412-47a9-9006-d1a8d9f3bd60",
   "metadata": {},
   "outputs": [
    {
     "data": {
      "text/plain": [
       "100"
      ]
     },
     "execution_count": 44,
     "metadata": {},
     "output_type": "execute_result"
    }
   ],
   "source": [
    "l[-1]"
   ]
  },
  {
   "cell_type": "code",
   "execution_count": 45,
   "id": "ba64dc14-75f0-418e-b2d2-b3f8c5671433",
   "metadata": {},
   "outputs": [
    {
     "data": {
      "text/plain": [
       "80"
      ]
     },
     "execution_count": 45,
     "metadata": {},
     "output_type": "execute_result"
    }
   ],
   "source": [
    "l[-3]"
   ]
  },
  {
   "cell_type": "code",
   "execution_count": 46,
   "id": "8e0b3f9d-221a-45e3-a168-7d6fbd998cdb",
   "metadata": {},
   "outputs": [
    {
     "data": {
      "text/plain": [
       "70"
      ]
     },
     "execution_count": 46,
     "metadata": {},
     "output_type": "execute_result"
    }
   ],
   "source": [
    "l[-4]"
   ]
  },
  {
   "cell_type": "code",
   "execution_count": 47,
   "id": "5eb27a81-63bb-4c76-8ab8-36492f37c6e6",
   "metadata": {},
   "outputs": [
    {
     "data": {
      "text/plain": [
       "[100, 20, 30, 40]"
      ]
     },
     "execution_count": 47,
     "metadata": {},
     "output_type": "execute_result"
    }
   ],
   "source": [
    "l[0:4]"
   ]
  },
  {
   "cell_type": "code",
   "execution_count": 48,
   "id": "318d3e88-b171-4842-9626-53682d075b2c",
   "metadata": {},
   "outputs": [
    {
     "data": {
      "text/plain": [
       "[100, 20, 30, 40, 50, 50]"
      ]
     },
     "execution_count": 48,
     "metadata": {},
     "output_type": "execute_result"
    }
   ],
   "source": [
    "l[0:6]"
   ]
  },
  {
   "cell_type": "code",
   "execution_count": 49,
   "id": "90cc7e1a-3d08-450f-940e-269d92f3ba6d",
   "metadata": {},
   "outputs": [
    {
     "data": {
      "text/plain": [
       "[100, 20, 30, 40, 50, 50, 20, 30, 40]"
      ]
     },
     "execution_count": 49,
     "metadata": {},
     "output_type": "execute_result"
    }
   ],
   "source": [
    "l[0:9]"
   ]
  },
  {
   "cell_type": "code",
   "execution_count": 50,
   "id": "9702ccd8-2001-466b-9e4b-d0272557a403",
   "metadata": {},
   "outputs": [
    {
     "ename": "SyntaxError",
     "evalue": "invalid syntax (1130245489.py, line 1)",
     "output_type": "error",
     "traceback": [
      "\u001b[1;36m  Cell \u001b[1;32mIn[50], line 1\u001b[1;36m\u001b[0m\n\u001b[1;33m    l.pop[]\u001b[0m\n\u001b[1;37m          ^\u001b[0m\n\u001b[1;31mSyntaxError\u001b[0m\u001b[1;31m:\u001b[0m invalid syntax\n"
     ]
    }
   ],
   "source": [
    "l.pop[]\n"
   ]
  },
  {
   "cell_type": "code",
   "execution_count": 51,
   "id": "c26b387c-d58c-42e5-9acc-b41ed7f5f100",
   "metadata": {},
   "outputs": [
    {
     "ename": "SyntaxError",
     "evalue": "invalid syntax (3389883901.py, line 1)",
     "output_type": "error",
     "traceback": [
      "\u001b[1;36m  Cell \u001b[1;32mIn[51], line 1\u001b[1;36m\u001b[0m\n\u001b[1;33m    l.pop[]\u001b[0m\n\u001b[1;37m          ^\u001b[0m\n\u001b[1;31mSyntaxError\u001b[0m\u001b[1;31m:\u001b[0m invalid syntax\n"
     ]
    }
   ],
   "source": [
    "l.pop[]"
   ]
  },
  {
   "cell_type": "code",
   "execution_count": 52,
   "id": "e08e04f6-a53a-41e5-af16-096c0c86ce9f",
   "metadata": {},
   "outputs": [
    {
     "ename": "SyntaxError",
     "evalue": "invalid syntax (2964625782.py, line 1)",
     "output_type": "error",
     "traceback": [
      "\u001b[1;36m  Cell \u001b[1;32mIn[52], line 1\u001b[1;36m\u001b[0m\n\u001b[1;33m    l.pop[]\u001b[0m\n\u001b[1;37m          ^\u001b[0m\n\u001b[1;31mSyntaxError\u001b[0m\u001b[1;31m:\u001b[0m invalid syntax\n"
     ]
    }
   ],
   "source": [
    "l.pop[]\n",
    "l"
   ]
  },
  {
   "cell_type": "code",
   "execution_count": 53,
   "id": "2c2496e0-9ea4-4b4a-b97d-50dfdeccd6a2",
   "metadata": {},
   "outputs": [],
   "source": [
    "l=[]"
   ]
  },
  {
   "cell_type": "code",
   "execution_count": 54,
   "id": "7b962b9b-2986-4ee2-ba29-8a6ff8e9f90d",
   "metadata": {},
   "outputs": [
    {
     "data": {
      "text/plain": [
       "[]"
      ]
     },
     "execution_count": 54,
     "metadata": {},
     "output_type": "execute_result"
    }
   ],
   "source": [
    "l"
   ]
  },
  {
   "cell_type": "code",
   "execution_count": 55,
   "id": "7e125b51-0126-457b-ab13-7418454c788b",
   "metadata": {},
   "outputs": [
    {
     "data": {
      "text/plain": [
       "list"
      ]
     },
     "execution_count": 55,
     "metadata": {},
     "output_type": "execute_result"
    }
   ],
   "source": [
    "type(l)"
   ]
  },
  {
   "cell_type": "code",
   "execution_count": 57,
   "id": "a3779e35-d9ca-4aaa-af51-03564ce8c1e8",
   "metadata": {},
   "outputs": [],
   "source": [
    "l.append(10)\n",
    "l.append(20)"
   ]
  },
  {
   "cell_type": "code",
   "execution_count": 58,
   "id": "b2aec585-6428-4401-9566-6b2fdfae685f",
   "metadata": {},
   "outputs": [
    {
     "data": {
      "text/plain": [
       "[10, 20, 10, 20]"
      ]
     },
     "execution_count": 58,
     "metadata": {},
     "output_type": "execute_result"
    }
   ],
   "source": [
    "l"
   ]
  },
  {
   "cell_type": "code",
   "execution_count": 59,
   "id": "ea9aec89-cfb4-4603-aee4-9cf17d7bd59c",
   "metadata": {},
   "outputs": [
    {
     "data": {
      "text/plain": [
       "4"
      ]
     },
     "execution_count": 59,
     "metadata": {},
     "output_type": "execute_result"
    }
   ],
   "source": [
    "len(l)"
   ]
  },
  {
   "cell_type": "code",
   "execution_count": 60,
   "id": "9bfcf438-1b24-45e6-bcb3-541064e3850b",
   "metadata": {},
   "outputs": [],
   "source": [
    "l10=l.copy"
   ]
  },
  {
   "cell_type": "code",
   "execution_count": 61,
   "id": "21683e53-3992-49c1-9dd2-e979fde53056",
   "metadata": {},
   "outputs": [
    {
     "data": {
      "text/plain": [
       "<function list.copy()>"
      ]
     },
     "execution_count": 61,
     "metadata": {},
     "output_type": "execute_result"
    }
   ],
   "source": [
    "l10"
   ]
  },
  {
   "cell_type": "code",
   "execution_count": 62,
   "id": "5cfa9fd5-91eb-4fe3-a8a7-a9587c9c4404",
   "metadata": {},
   "outputs": [],
   "source": [
    "l10=l.copy"
   ]
  },
  {
   "cell_type": "code",
   "execution_count": 63,
   "id": "8c8b70e5-153b-41a1-9d95-a7776b36e085",
   "metadata": {},
   "outputs": [
    {
     "data": {
      "text/plain": [
       "<function list.copy()>"
      ]
     },
     "execution_count": 63,
     "metadata": {},
     "output_type": "execute_result"
    }
   ],
   "source": [
    "l10"
   ]
  },
  {
   "cell_type": "code",
   "execution_count": 64,
   "id": "ea44c455-d27b-4396-adc5-745d03d4cba9",
   "metadata": {},
   "outputs": [],
   "source": [
    "l.append(10)\n",
    "l.append(20)\n",
    "l.append(30)\n",
    "l.append(40)\n",
    "l.append(10)"
   ]
  },
  {
   "cell_type": "code",
   "execution_count": 65,
   "id": "022e4900-d2ca-4e2d-a8c2-994a10160de8",
   "metadata": {},
   "outputs": [
    {
     "data": {
      "text/plain": [
       "[10, 20, 10, 20, 10, 20, 30, 40, 10]"
      ]
     },
     "execution_count": 65,
     "metadata": {},
     "output_type": "execute_result"
    }
   ],
   "source": [
    "l"
   ]
  },
  {
   "cell_type": "code",
   "execution_count": 66,
   "id": "800688a7-a376-48d8-bca6-8e99eb2bc051",
   "metadata": {},
   "outputs": [
    {
     "data": {
      "text/plain": [
       "9"
      ]
     },
     "execution_count": 66,
     "metadata": {},
     "output_type": "execute_result"
    }
   ],
   "source": [
    "len(l)"
   ]
  },
  {
   "cell_type": "code",
   "execution_count": 67,
   "id": "08273f29-bc05-4a3a-be2f-74fd07dc0d0c",
   "metadata": {},
   "outputs": [],
   "source": [
    "l10=l.copy"
   ]
  },
  {
   "cell_type": "code",
   "execution_count": 68,
   "id": "ecb4429d-bcea-41f1-82f3-3bc384124c61",
   "metadata": {},
   "outputs": [
    {
     "data": {
      "text/plain": [
       "<function list.copy()>"
      ]
     },
     "execution_count": 68,
     "metadata": {},
     "output_type": "execute_result"
    }
   ],
   "source": [
    "l10"
   ]
  },
  {
   "cell_type": "code",
   "execution_count": 69,
   "id": "0d6f2386-c44a-42f1-93eb-8c8a77b7b667",
   "metadata": {},
   "outputs": [
    {
     "data": {
      "text/plain": [
       "False"
      ]
     },
     "execution_count": 69,
     "metadata": {},
     "output_type": "execute_result"
    }
   ],
   "source": [
    "l==l10"
   ]
  },
  {
   "cell_type": "code",
   "execution_count": 70,
   "id": "96e78d69-acf0-417e-9b84-204a191f94a9",
   "metadata": {},
   "outputs": [
    {
     "name": "stdout",
     "output_type": "stream",
     "text": [
      "[10, 20, 10, 20, 10, 20, 30, 40, 10]\n",
      "<built-in method copy of list object at 0x0000015D8F930E40>\n"
     ]
    }
   ],
   "source": [
    "print(l)\n",
    "print(l10)"
   ]
  },
  {
   "cell_type": "code",
   "execution_count": 71,
   "id": "3b872da6-4f13-4847-a6fa-403f82349a09",
   "metadata": {},
   "outputs": [
    {
     "ename": "SyntaxError",
     "evalue": "invalid syntax (3336380861.py, line 1)",
     "output_type": "error",
     "traceback": [
      "\u001b[1;36m  Cell \u001b[1;32mIn[71], line 1\u001b[1;36m\u001b[0m\n\u001b[1;33m    l9[]\u001b[0m\n\u001b[1;37m       ^\u001b[0m\n\u001b[1;31mSyntaxError\u001b[0m\u001b[1;31m:\u001b[0m invalid syntax\n"
     ]
    }
   ],
   "source": [
    "l9[]"
   ]
  },
  {
   "cell_type": "code",
   "execution_count": 72,
   "id": "d0f93584-292a-4101-be0a-7bc4eed81df2",
   "metadata": {},
   "outputs": [],
   "source": [
    "l9=[]"
   ]
  },
  {
   "cell_type": "code",
   "execution_count": 73,
   "id": "5fa091ce-f3ca-4dba-9f09-fb5e9e8e0a43",
   "metadata": {},
   "outputs": [
    {
     "data": {
      "text/plain": [
       "[]"
      ]
     },
     "execution_count": 73,
     "metadata": {},
     "output_type": "execute_result"
    }
   ],
   "source": [
    "l9"
   ]
  },
  {
   "cell_type": "code",
   "execution_count": 74,
   "id": "8e1546ca-3cd4-475a-b1c1-8fcba5313669",
   "metadata": {},
   "outputs": [],
   "source": [
    "l9.append(2.3)\n",
    "l9.append('nit')\n",
    "l9.append(True)\n",
    "l9.append(1+2j)\n",
    "l9.append([1,2,3])"
   ]
  },
  {
   "cell_type": "code",
   "execution_count": 75,
   "id": "89751516-4e85-4afb-9856-2ae456d62f78",
   "metadata": {},
   "outputs": [
    {
     "data": {
      "text/plain": [
       "[2.3, 'nit', True, (1+2j), [1, 2, 3]]"
      ]
     },
     "execution_count": 75,
     "metadata": {},
     "output_type": "execute_result"
    }
   ],
   "source": [
    "l9"
   ]
  },
  {
   "cell_type": "code",
   "execution_count": 76,
   "id": "ec26aede-298b-4241-bf6c-627676bfba24",
   "metadata": {},
   "outputs": [
    {
     "ename": "NameError",
     "evalue": "name 'peint' is not defined",
     "output_type": "error",
     "traceback": [
      "\u001b[1;31m---------------------------------------------------------------------------\u001b[0m",
      "\u001b[1;31mNameError\u001b[0m                                 Traceback (most recent call last)",
      "Cell \u001b[1;32mIn[76], line 1\u001b[0m\n\u001b[1;32m----> 1\u001b[0m peint(l)\n\u001b[0;32m      2\u001b[0m \u001b[38;5;28mprint\u001b[39m(l10)\n\u001b[0;32m      3\u001b[0m \u001b[38;5;28mprint\u001b[39m(l9)\n",
      "\u001b[1;31mNameError\u001b[0m: name 'peint' is not defined"
     ]
    }
   ],
   "source": [
    "peint(l)\n",
    "print(l10)\n",
    "print(l9)"
   ]
  },
  {
   "cell_type": "code",
   "execution_count": 77,
   "id": "544cba17-01cc-4283-9374-fffeb8dc1567",
   "metadata": {},
   "outputs": [
    {
     "name": "stdout",
     "output_type": "stream",
     "text": [
      "[10, 20, 10, 20, 10, 20, 30, 40, 10]\n",
      "[2.3, 'nit', True, (1+2j), [1, 2, 3]]\n"
     ]
    },
    {
     "ename": "NameError",
     "evalue": "name 'l6' is not defined",
     "output_type": "error",
     "traceback": [
      "\u001b[1;31m---------------------------------------------------------------------------\u001b[0m",
      "\u001b[1;31mNameError\u001b[0m                                 Traceback (most recent call last)",
      "Cell \u001b[1;32mIn[77], line 3\u001b[0m\n\u001b[0;32m      1\u001b[0m \u001b[38;5;28mprint\u001b[39m(l)\n\u001b[0;32m      2\u001b[0m \u001b[38;5;28mprint\u001b[39m(l9)\n\u001b[1;32m----> 3\u001b[0m \u001b[38;5;28mprint\u001b[39m(l6)\n",
      "\u001b[1;31mNameError\u001b[0m: name 'l6' is not defined"
     ]
    }
   ],
   "source": [
    "print(l)\n",
    "print(l9)\n",
    "print(l6)"
   ]
  },
  {
   "cell_type": "code",
   "execution_count": 78,
   "id": "8b16b246-90f7-432c-aa99-6cfa284cb781",
   "metadata": {},
   "outputs": [
    {
     "name": "stdout",
     "output_type": "stream",
     "text": [
      "[10, 20, 10, 20, 10, 20, 30, 40, 10]\n",
      "[2.3, 'nit', True, (1+2j), [1, 2, 3]]\n"
     ]
    }
   ],
   "source": [
    "print(l)\n",
    "print(l9)\n"
   ]
  },
  {
   "cell_type": "code",
   "execution_count": 79,
   "id": "7bf66ceb-3ff7-4dc3-a1ef-50eaaabcb00b",
   "metadata": {},
   "outputs": [
    {
     "name": "stdout",
     "output_type": "stream",
     "text": [
      "9\n"
     ]
    },
    {
     "ename": "TypeError",
     "evalue": "object of type 'builtin_function_or_method' has no len()",
     "output_type": "error",
     "traceback": [
      "\u001b[1;31m---------------------------------------------------------------------------\u001b[0m",
      "\u001b[1;31mTypeError\u001b[0m                                 Traceback (most recent call last)",
      "Cell \u001b[1;32mIn[79], line 2\u001b[0m\n\u001b[0;32m      1\u001b[0m \u001b[38;5;28mprint\u001b[39m(\u001b[38;5;28mlen\u001b[39m(l))\n\u001b[1;32m----> 2\u001b[0m \u001b[38;5;28mprint\u001b[39m(\u001b[38;5;28mlen\u001b[39m(l10))\n\u001b[0;32m      3\u001b[0m \u001b[38;5;28mprint\u001b[39m(\u001b[38;5;28mlen\u001b[39m(l9))\n",
      "\u001b[1;31mTypeError\u001b[0m: object of type 'builtin_function_or_method' has no len()"
     ]
    }
   ],
   "source": [
    "print(len(l))\n",
    "print(len(l10))\n",
    "print(len(l9))"
   ]
  },
  {
   "cell_type": "code",
   "execution_count": 80,
   "id": "3ec51b22-9d8a-4a38-ba45-39737017a113",
   "metadata": {},
   "outputs": [
    {
     "name": "stdout",
     "output_type": "stream",
     "text": [
      "9\n",
      "5\n"
     ]
    }
   ],
   "source": [
    "print(len(l))\n",
    "print(len(l9))"
   ]
  },
  {
   "cell_type": "code",
   "execution_count": 81,
   "id": "b1f0eb05-3b18-4102-b9bb-92e50e35a1c3",
   "metadata": {},
   "outputs": [
    {
     "data": {
      "text/plain": [
       "140717482650296"
      ]
     },
     "execution_count": 81,
     "metadata": {},
     "output_type": "execute_result"
    }
   ],
   "source": [
    "id(l)\n",
    "id(9)"
   ]
  },
  {
   "cell_type": "code",
   "execution_count": 82,
   "id": "65e3436a-4173-4d1f-8111-14d3af479358",
   "metadata": {},
   "outputs": [
    {
     "name": "stdout",
     "output_type": "stream",
     "text": [
      "1501352365632\n",
      "140717482650296\n"
     ]
    }
   ],
   "source": [
    "print(id(l))\n",
    "print(id(9))"
   ]
  },
  {
   "cell_type": "code",
   "execution_count": 83,
   "id": "2a7c3b57-cc91-4b26-9456-78cab3109708",
   "metadata": {},
   "outputs": [
    {
     "ename": "SyntaxError",
     "evalue": "invalid syntax (433413126.py, line 1)",
     "output_type": "error",
     "traceback": [
      "\u001b[1;36m  Cell \u001b[1;32mIn[83], line 1\u001b[1;36m\u001b[0m\n\u001b[1;33m    l.\u001b[0m\n\u001b[1;37m      ^\u001b[0m\n\u001b[1;31mSyntaxError\u001b[0m\u001b[1;31m:\u001b[0m invalid syntax\n"
     ]
    }
   ],
   "source": [
    "l."
   ]
  },
  {
   "cell_type": "code",
   "execution_count": 84,
   "id": "1b7cb777-af57-483b-bb9b-485bef0eade2",
   "metadata": {},
   "outputs": [
    {
     "data": {
      "text/plain": [
       "1"
      ]
     },
     "execution_count": 84,
     "metadata": {},
     "output_type": "execute_result"
    }
   ],
   "source": [
    "l.count(10)\n",
    "l9.count('nit')"
   ]
  },
  {
   "cell_type": "code",
   "execution_count": 85,
   "id": "d03fff02-34ab-46f3-8cc2-b0b882eef672",
   "metadata": {},
   "outputs": [
    {
     "data": {
      "text/plain": [
       "(1+2j)"
      ]
     },
     "execution_count": 85,
     "metadata": {},
     "output_type": "execute_result"
    }
   ],
   "source": [
    "l9[1]\n",
    "l9[2]\n",
    "l9[3]"
   ]
  },
  {
   "cell_type": "code",
   "execution_count": 86,
   "id": "e23e7b80-2ad7-48bb-90ab-d81a2f4e0605",
   "metadata": {},
   "outputs": [
    {
     "data": {
      "text/plain": [
       "True"
      ]
     },
     "execution_count": 86,
     "metadata": {},
     "output_type": "execute_result"
    }
   ],
   "source": [
    "l9[-1]\n",
    "l9[-2]\n",
    "l9[-3]"
   ]
  },
  {
   "cell_type": "code",
   "execution_count": 87,
   "id": "d2e7db37-84be-4813-b8e4-01d0cbaa0910",
   "metadata": {},
   "outputs": [],
   "source": [
    "l9[0]=230"
   ]
  },
  {
   "cell_type": "code",
   "execution_count": 88,
   "id": "aef6481d-62e7-4dd7-a8b3-0a424e5c1074",
   "metadata": {},
   "outputs": [
    {
     "data": {
      "text/plain": [
       "[230, 'nit', True, (1+2j), [1, 2, 3]]"
      ]
     },
     "execution_count": 88,
     "metadata": {},
     "output_type": "execute_result"
    }
   ],
   "source": [
    "l9"
   ]
  },
  {
   "cell_type": "code",
   "execution_count": 89,
   "id": "ef98ee34-09e5-494a-bf57-6c044920c3a2",
   "metadata": {},
   "outputs": [
    {
     "data": {
      "text/plain": [
       "<function list.copy()>"
      ]
     },
     "execution_count": 89,
     "metadata": {},
     "output_type": "execute_result"
    }
   ],
   "source": [
    "l10"
   ]
  },
  {
   "cell_type": "code",
   "execution_count": 90,
   "id": "609c1426-9250-48fd-b40a-5f0fe71fd5c6",
   "metadata": {},
   "outputs": [
    {
     "ename": "NameError",
     "evalue": "name 'lenl10' is not defined",
     "output_type": "error",
     "traceback": [
      "\u001b[1;31m---------------------------------------------------------------------------\u001b[0m",
      "\u001b[1;31mNameError\u001b[0m                                 Traceback (most recent call last)",
      "Cell \u001b[1;32mIn[90], line 1\u001b[0m\n\u001b[1;32m----> 1\u001b[0m lenl10\n",
      "\u001b[1;31mNameError\u001b[0m: name 'lenl10' is not defined"
     ]
    }
   ],
   "source": [
    "lenl10"
   ]
  },
  {
   "cell_type": "code",
   "execution_count": 91,
   "id": "e4ef5bca-97af-4f2f-b966-dbf0f0d29fc0",
   "metadata": {},
   "outputs": [
    {
     "ename": "ValueError",
     "evalue": "list.remove(x): x not in list",
     "output_type": "error",
     "traceback": [
      "\u001b[1;31m---------------------------------------------------------------------------\u001b[0m",
      "\u001b[1;31mValueError\u001b[0m                                Traceback (most recent call last)",
      "Cell \u001b[1;32mIn[91], line 1\u001b[0m\n\u001b[1;32m----> 1\u001b[0m l\u001b[38;5;241m.\u001b[39mremove(\u001b[38;5;241m1\u001b[39m\u001b[38;5;241m+\u001b[39m\u001b[38;5;241m2\u001b[39mj)\n",
      "\u001b[1;31mValueError\u001b[0m: list.remove(x): x not in list"
     ]
    }
   ],
   "source": [
    "l.remove(1+2j)"
   ]
  },
  {
   "cell_type": "code",
   "execution_count": 92,
   "id": "9a9f0bcf-e476-4087-a3f2-761e145f5ff4",
   "metadata": {},
   "outputs": [],
   "source": [
    "l10=[]"
   ]
  },
  {
   "cell_type": "code",
   "execution_count": 93,
   "id": "2d53ee46-4d78-4d1e-a5a8-e42edab3b6c6",
   "metadata": {},
   "outputs": [
    {
     "data": {
      "text/plain": [
       "[]"
      ]
     },
     "execution_count": 93,
     "metadata": {},
     "output_type": "execute_result"
    }
   ],
   "source": [
    "l10"
   ]
  },
  {
   "cell_type": "code",
   "execution_count": 94,
   "id": "52c6c483-7fae-4275-9ee8-7ffd0f87139d",
   "metadata": {},
   "outputs": [],
   "source": [
    "l10.append(20)\n",
    "l10.append(30)\n",
    "l10.append(50)"
   ]
  },
  {
   "cell_type": "code",
   "execution_count": 95,
   "id": "6d3aa75e-3c32-40f2-9753-9e22106e85f5",
   "metadata": {},
   "outputs": [
    {
     "data": {
      "text/plain": [
       "[20, 30, 50]"
      ]
     },
     "execution_count": 95,
     "metadata": {},
     "output_type": "execute_result"
    }
   ],
   "source": [
    "l10"
   ]
  },
  {
   "cell_type": "code",
   "execution_count": 96,
   "id": "8aaceba6-06ff-4756-9500-49a6adb87458",
   "metadata": {},
   "outputs": [
    {
     "name": "stdout",
     "output_type": "stream",
     "text": [
      "[10, 20, 10, 20, 10, 20, 30, 40, 10]\n",
      "[20, 30, 50]\n"
     ]
    }
   ],
   "source": [
    "print(l)\n",
    "print(l10)"
   ]
  },
  {
   "cell_type": "code",
   "execution_count": 97,
   "id": "d74899e4-5c7f-490e-8495-04e9268e1a30",
   "metadata": {},
   "outputs": [
    {
     "name": "stdout",
     "output_type": "stream",
     "text": [
      "[10, 20, 10, 20, 10, 20, 30, 40, 10]\n",
      "[20, 30, 50]\n",
      "[230, 'nit', True, (1+2j), [1, 2, 3]]\n"
     ]
    }
   ],
   "source": [
    "print(l)\n",
    "print(l10)\n",
    "print(l9)"
   ]
  },
  {
   "cell_type": "code",
   "execution_count": 98,
   "id": "b337dbd5-36f7-47b3-b989-6f7238516911",
   "metadata": {},
   "outputs": [
    {
     "name": "stdout",
     "output_type": "stream",
     "text": [
      "9\n",
      "3\n",
      "5\n"
     ]
    }
   ],
   "source": [
    "print(len(l))\n",
    "print(len(l10))\n",
    "print(len(l9))"
   ]
  },
  {
   "cell_type": "code",
   "execution_count": 99,
   "id": "33486fe6-1dc0-4e82-8ee1-efcd75961b1c",
   "metadata": {},
   "outputs": [
    {
     "data": {
      "text/plain": [
       "3"
      ]
     },
     "execution_count": 99,
     "metadata": {},
     "output_type": "execute_result"
    }
   ],
   "source": [
    "len(l10)"
   ]
  },
  {
   "cell_type": "code",
   "execution_count": 100,
   "id": "73d27354-64fe-4b89-8144-ddc92a2feb84",
   "metadata": {},
   "outputs": [],
   "source": [
    "l10.clear()"
   ]
  },
  {
   "cell_type": "code",
   "execution_count": 101,
   "id": "7385eb4e-3758-4252-940e-4c57b4b7f2a1",
   "metadata": {},
   "outputs": [
    {
     "data": {
      "text/plain": [
       "[]"
      ]
     },
     "execution_count": 101,
     "metadata": {},
     "output_type": "execute_result"
    }
   ],
   "source": [
    "l10"
   ]
  },
  {
   "cell_type": "code",
   "execution_count": 102,
   "id": "daa49158-3b7d-45bf-8c0e-725492cd6811",
   "metadata": {},
   "outputs": [
    {
     "ename": "ValueError",
     "evalue": "list.remove(x): x not in list",
     "output_type": "error",
     "traceback": [
      "\u001b[1;31m---------------------------------------------------------------------------\u001b[0m",
      "\u001b[1;31mValueError\u001b[0m                                Traceback (most recent call last)",
      "Cell \u001b[1;32mIn[102], line 1\u001b[0m\n\u001b[1;32m----> 1\u001b[0m l\u001b[38;5;241m.\u001b[39mremove(\u001b[38;5;241m1\u001b[39m\u001b[38;5;241m+\u001b[39m\u001b[38;5;241m2\u001b[39mj)\n",
      "\u001b[1;31mValueError\u001b[0m: list.remove(x): x not in list"
     ]
    }
   ],
   "source": [
    "l.remove(1+2j)"
   ]
  },
  {
   "cell_type": "code",
   "execution_count": 103,
   "id": "5eec2caa-afc8-494a-bdb5-622e0f5e4b95",
   "metadata": {},
   "outputs": [],
   "source": [
    "l=[]"
   ]
  },
  {
   "cell_type": "code",
   "execution_count": 104,
   "id": "e4f2460a-9bcb-4b89-bc44-a39ccc9b5561",
   "metadata": {},
   "outputs": [
    {
     "data": {
      "text/plain": [
       "[]"
      ]
     },
     "execution_count": 104,
     "metadata": {},
     "output_type": "execute_result"
    }
   ],
   "source": [
    "l"
   ]
  },
  {
   "cell_type": "code",
   "execution_count": 105,
   "id": "d6902d09-6bac-4d67-819a-59d1025fa1d8",
   "metadata": {},
   "outputs": [],
   "source": [
    "l=[10,20,2.3,1+2j,4.6,'nit']"
   ]
  },
  {
   "cell_type": "code",
   "execution_count": 106,
   "id": "20fb5cc7-6f04-4513-a644-b46ba9e20982",
   "metadata": {},
   "outputs": [
    {
     "data": {
      "text/plain": [
       "[10, 20, 2.3, (1+2j), 4.6, 'nit']"
      ]
     },
     "execution_count": 106,
     "metadata": {},
     "output_type": "execute_result"
    }
   ],
   "source": [
    "l"
   ]
  },
  {
   "cell_type": "code",
   "execution_count": 107,
   "id": "599f003f-b085-4ad7-88ea-4f245d3055a5",
   "metadata": {},
   "outputs": [],
   "source": [
    "l.remove(1+2j)"
   ]
  },
  {
   "cell_type": "code",
   "execution_count": 108,
   "id": "800b1622-7370-4808-8d09-e05c27ae1bb5",
   "metadata": {},
   "outputs": [
    {
     "data": {
      "text/plain": [
       "[10, 20, 2.3, 4.6, 'nit']"
      ]
     },
     "execution_count": 108,
     "metadata": {},
     "output_type": "execute_result"
    }
   ],
   "source": [
    "l"
   ]
  },
  {
   "cell_type": "code",
   "execution_count": 109,
   "id": "e35d18e3-a823-4197-a4f7-e6f4e2ec4ab4",
   "metadata": {},
   "outputs": [],
   "source": [
    "l.insert(1,15)"
   ]
  },
  {
   "cell_type": "code",
   "execution_count": 110,
   "id": "6de217a0-d23b-42fe-91e1-8be550b893ce",
   "metadata": {},
   "outputs": [
    {
     "data": {
      "text/plain": [
       "[10, 15, 20, 2.3, 4.6, 'nit']"
      ]
     },
     "execution_count": 110,
     "metadata": {},
     "output_type": "execute_result"
    }
   ],
   "source": [
    "l"
   ]
  },
  {
   "cell_type": "code",
   "execution_count": 111,
   "id": "bcf8cb4e-9699-4645-b3f5-4c96178e780f",
   "metadata": {},
   "outputs": [],
   "source": [
    "l1=l.copy()"
   ]
  },
  {
   "cell_type": "code",
   "execution_count": 112,
   "id": "929f0417-ddef-46ac-9f47-f663e8d8fbc2",
   "metadata": {},
   "outputs": [
    {
     "data": {
      "text/plain": [
       "[10, 15, 20, 2.3, 4.6, 'nit']"
      ]
     },
     "execution_count": 112,
     "metadata": {},
     "output_type": "execute_result"
    }
   ],
   "source": [
    "l1"
   ]
  },
  {
   "cell_type": "code",
   "execution_count": 113,
   "id": "9ccdd7ab-26b1-4669-bc35-2cee9e4a67b7",
   "metadata": {},
   "outputs": [
    {
     "data": {
      "text/plain": [
       "True"
      ]
     },
     "execution_count": 113,
     "metadata": {},
     "output_type": "execute_result"
    }
   ],
   "source": [
    "l==l1"
   ]
  },
  {
   "cell_type": "code",
   "execution_count": 114,
   "id": "c6c9ff5a-0550-46a1-93e3-6f4b42d2445b",
   "metadata": {},
   "outputs": [],
   "source": [
    "l3=[2,100,3,50,9]"
   ]
  },
  {
   "cell_type": "code",
   "execution_count": 115,
   "id": "e603f451-fe31-42bb-8a2a-b52f606f5be8",
   "metadata": {},
   "outputs": [
    {
     "data": {
      "text/plain": [
       "[2, 100, 3, 50, 9]"
      ]
     },
     "execution_count": 115,
     "metadata": {},
     "output_type": "execute_result"
    }
   ],
   "source": [
    "l3"
   ]
  },
  {
   "cell_type": "code",
   "execution_count": 116,
   "id": "8f2825ba-cf82-4014-a03e-891adeb9b630",
   "metadata": {},
   "outputs": [],
   "source": [
    "l3.reverse()"
   ]
  },
  {
   "cell_type": "code",
   "execution_count": 117,
   "id": "90d84b23-e8d8-42c1-a2bc-73bbf7576951",
   "metadata": {},
   "outputs": [
    {
     "data": {
      "text/plain": [
       "[9, 50, 3, 100, 2]"
      ]
     },
     "execution_count": 117,
     "metadata": {},
     "output_type": "execute_result"
    }
   ],
   "source": [
    "l3"
   ]
  },
  {
   "cell_type": "code",
   "execution_count": 118,
   "id": "845da04a-cabb-49c1-be3b-a35ad5999bc9",
   "metadata": {},
   "outputs": [],
   "source": [
    "l3.sort()"
   ]
  },
  {
   "cell_type": "code",
   "execution_count": 119,
   "id": "f37ba3f3-26e7-4694-9918-80f9c8cb3b68",
   "metadata": {},
   "outputs": [
    {
     "data": {
      "text/plain": [
       "[2, 3, 9, 50, 100]"
      ]
     },
     "execution_count": 119,
     "metadata": {},
     "output_type": "execute_result"
    }
   ],
   "source": [
    "l3"
   ]
  },
  {
   "cell_type": "code",
   "execution_count": 120,
   "id": "e4e58efa-079a-4bc6-968a-4b7264187986",
   "metadata": {},
   "outputs": [
    {
     "data": {
      "text/plain": [
       "True"
      ]
     },
     "execution_count": 120,
     "metadata": {},
     "output_type": "execute_result"
    }
   ],
   "source": [
    "2 in l3"
   ]
  },
  {
   "cell_type": "code",
   "execution_count": 121,
   "id": "c91421fa-8725-4e8a-bcd0-d825f80aa0ef",
   "metadata": {},
   "outputs": [
    {
     "data": {
      "text/plain": [
       "False"
      ]
     },
     "execution_count": 121,
     "metadata": {},
     "output_type": "execute_result"
    }
   ],
   "source": [
    "200 in l3"
   ]
  },
  {
   "cell_type": "code",
   "execution_count": 122,
   "id": "a0161b15-fdb4-4c3a-8d91-ca9f2f138f5b",
   "metadata": {},
   "outputs": [
    {
     "data": {
      "text/plain": [
       "0"
      ]
     },
     "execution_count": 122,
     "metadata": {},
     "output_type": "execute_result"
    }
   ],
   "source": [
    "len(l10)"
   ]
  },
  {
   "cell_type": "code",
   "execution_count": 123,
   "id": "eda1670e-9469-4e7b-a19d-d11086b98976",
   "metadata": {},
   "outputs": [],
   "source": [
    "del(l10)"
   ]
  },
  {
   "cell_type": "code",
   "execution_count": 124,
   "id": "a52803fc-9cce-470a-94b3-054a2d4ef52f",
   "metadata": {},
   "outputs": [
    {
     "ename": "NameError",
     "evalue": "name 'l10' is not defined",
     "output_type": "error",
     "traceback": [
      "\u001b[1;31m---------------------------------------------------------------------------\u001b[0m",
      "\u001b[1;31mNameError\u001b[0m                                 Traceback (most recent call last)",
      "Cell \u001b[1;32mIn[124], line 1\u001b[0m\n\u001b[1;32m----> 1\u001b[0m l10\n",
      "\u001b[1;31mNameError\u001b[0m: name 'l10' is not defined"
     ]
    }
   ],
   "source": [
    "l10"
   ]
  },
  {
   "cell_type": "code",
   "execution_count": 125,
   "id": "08206ebf-c850-4098-bbfe-05bd9d7cd855",
   "metadata": {},
   "outputs": [
    {
     "data": {
      "text/plain": [
       "[1, 2, 3]"
      ]
     },
     "execution_count": 125,
     "metadata": {},
     "output_type": "execute_result"
    }
   ],
   "source": [
    "l9.pop()"
   ]
  },
  {
   "cell_type": "code",
   "execution_count": 126,
   "id": "0c775379-46b1-4154-8ac1-f33834112d6c",
   "metadata": {},
   "outputs": [
    {
     "data": {
      "text/plain": [
       "[230, 'nit', True, (1+2j)]"
      ]
     },
     "execution_count": 126,
     "metadata": {},
     "output_type": "execute_result"
    }
   ],
   "source": [
    "l9"
   ]
  },
  {
   "cell_type": "code",
   "execution_count": 127,
   "id": "6831e450-db91-4e47-ba47-33b62a3e2e69",
   "metadata": {},
   "outputs": [
    {
     "data": {
      "text/plain": [
       "'nit'"
      ]
     },
     "execution_count": 127,
     "metadata": {},
     "output_type": "execute_result"
    }
   ],
   "source": [
    "l9.pop(1)"
   ]
  },
  {
   "cell_type": "code",
   "execution_count": 128,
   "id": "9d1325bf-b1d1-4a9b-aca6-9999b407d57a",
   "metadata": {},
   "outputs": [
    {
     "data": {
      "text/plain": [
       "[10, 15, 20, 2.3, 4.6, 'nit']"
      ]
     },
     "execution_count": 128,
     "metadata": {},
     "output_type": "execute_result"
    }
   ],
   "source": [
    "l1"
   ]
  },
  {
   "cell_type": "code",
   "execution_count": 129,
   "id": "b4d4c05e-eaf2-4052-a5eb-3c8d74fdbe99",
   "metadata": {},
   "outputs": [
    {
     "ename": "SyntaxError",
     "evalue": "incomplete input (1474307588.py, line 1)",
     "output_type": "error",
     "traceback": [
      "\u001b[1;36m  Cell \u001b[1;32mIn[129], line 1\u001b[1;36m\u001b[0m\n\u001b[1;33m    l1.remove(True0\u001b[0m\n\u001b[1;37m                   ^\u001b[0m\n\u001b[1;31mSyntaxError\u001b[0m\u001b[1;31m:\u001b[0m incomplete input\n"
     ]
    }
   ],
   "source": [
    "l1.remove(True0"
   ]
  },
  {
   "cell_type": "code",
   "execution_count": 130,
   "id": "fa39a1b7-aff0-4d73-911b-2f085f78e905",
   "metadata": {},
   "outputs": [
    {
     "data": {
      "text/plain": [
       "[10, 15, 20, 2.3, 4.6, 'nit']"
      ]
     },
     "execution_count": 130,
     "metadata": {},
     "output_type": "execute_result"
    }
   ],
   "source": [
    "l1"
   ]
  },
  {
   "cell_type": "code",
   "execution_count": 131,
   "id": "f58db0e1-0cca-47c9-ae7f-1d5bd028cc9a",
   "metadata": {},
   "outputs": [],
   "source": [
    "l1.remove(2.3)"
   ]
  },
  {
   "cell_type": "code",
   "execution_count": 132,
   "id": "59f0db09-acc2-4427-a16c-94139250d7b1",
   "metadata": {},
   "outputs": [
    {
     "data": {
      "text/plain": [
       "[10, 15, 20, 4.6, 'nit']"
      ]
     },
     "execution_count": 132,
     "metadata": {},
     "output_type": "execute_result"
    }
   ],
   "source": [
    "l1"
   ]
  },
  {
   "cell_type": "code",
   "execution_count": 133,
   "id": "2f9401d4-0833-4be9-8f45-0548a267dacf",
   "metadata": {},
   "outputs": [],
   "source": [
    "l1.remove('nit')"
   ]
  },
  {
   "cell_type": "code",
   "execution_count": 134,
   "id": "73dd7b24-8105-44cf-804f-c88767af471c",
   "metadata": {},
   "outputs": [
    {
     "data": {
      "text/plain": [
       "[10, 15, 20, 4.6]"
      ]
     },
     "execution_count": 134,
     "metadata": {},
     "output_type": "execute_result"
    }
   ],
   "source": [
    "l1"
   ]
  },
  {
   "cell_type": "code",
   "execution_count": null,
   "id": "af491c4f-99c8-4e5f-807e-a3f4faad12ae",
   "metadata": {},
   "outputs": [],
   "source": []
  }
 ],
 "metadata": {
  "kernelspec": {
   "display_name": "Python [conda env:base] *",
   "language": "python",
   "name": "conda-base-py"
  },
  "language_info": {
   "codemirror_mode": {
    "name": "ipython",
    "version": 3
   },
   "file_extension": ".py",
   "mimetype": "text/x-python",
   "name": "python",
   "nbconvert_exporter": "python",
   "pygments_lexer": "ipython3",
   "version": "3.12.7"
  }
 },
 "nbformat": 4,
 "nbformat_minor": 5
}
